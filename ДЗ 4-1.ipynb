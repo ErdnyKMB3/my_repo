{
 "cells": [
  {
   "cell_type": "markdown",
   "metadata": {},
   "source": [
    "Данное домашнее задание посвящено схеме базе данных, связанной с футбольным командами. Схема расположена в hw_diagram.jpg\n",
    "## Описание таблиц \n",
    "\n",
    "### Positions \n",
    "Позиции игроков\n",
    "id - уникальный идентификатор позиции \n",
    "Name - Название таблицы \n",
    "\n",
    "### Coaches \n",
    "Таблица тренеров \n",
    "id - уникальный идентификатор тренера\n",
    "Name - имя тренера \n",
    "\n",
    "## Teams \n",
    "Таблица команд \n",
    "id - уникальный идентификатор  команды \n",
    "Name - имя команды \n",
    "Location - расположение команды \n",
    "Coach_id - идентификатор тренера \n",
    "\n",
    "### Players \n",
    "Таблица игроков \n",
    "Id - уникальный идентификатор игрока \n",
    "Name - имя игрока \n",
    "Age - возраст игрока \n",
    "Position_id - идентификатор позиции \n",
    "Team_id - идентификатор команды \n",
    "Start_date - дата начала игры в команде \n",
    "\n",
    "### PlayersArchive \n",
    "Архив по игрокам (информация о том, в какой команде игрок играл ранее) \n",
    "player_id - идентификатор игрока \n",
    "team_id - идентификатор команды \n",
    "start_date - дата начала игры \n",
    "end_date - дата окончания игры"
   ]
  },
  {
   "cell_type": "code",
   "execution_count": 352,
   "metadata": {
    "collapsed": false
   },
   "outputs": [
    {
     "data": {
      "text/plain": [
       "'Connected: None@test1.db'"
      ]
     },
     "execution_count": 352,
     "metadata": {},
     "output_type": "execute_result"
    }
   ],
   "source": [
    "%reload_ext sql\n",
    "%sql sqlite:///test1.db"
   ]
  },
  {
   "cell_type": "markdown",
   "metadata": {},
   "source": [
    "# Задание 1\n",
    "Реализовать перенакатываемые sql-скрипты по схеме hw_diagram, приложенного ниже."
   ]
  },
  {
   "cell_type": "code",
   "execution_count": 353,
   "metadata": {
    "collapsed": false
   },
   "outputs": [
    {
     "name": "stdout",
     "output_type": "stream",
     "text": [
      "Done.\n",
      "0 rows affected.\n",
      "0 rows affected.\n",
      "0 rows affected.\n",
      "0 rows affected.\n",
      "0 rows affected.\n",
      "0 rows affected.\n",
      "0 rows affected.\n",
      "0 rows affected.\n",
      "0 rows affected.\n",
      "0 rows affected.\n"
     ]
    },
    {
     "data": {
      "text/plain": [
       "[]"
      ]
     },
     "execution_count": 353,
     "metadata": {},
     "output_type": "execute_result"
    }
   ],
   "source": [
    "%%sql    \n",
    "Pragma foreign_key=on;\n",
    "DROP TABLE if exists Coaches;\n",
    "CREATE TABLE Coaches (id integer(0,0) Primary key,name Varchar(0,0));\n",
    "DROP TABLE if exists Teams;\n",
    "CREATE TABLE Teams (id integer primary key ,name varchar(0,0), location varchar(0,0) , coach_id integer(0,0) ,foreign key(coach_id) references Coaches(id));\n",
    "Drop table if exists Positions;\n",
    "Create table Positions (id integer primary key,name varchar(0,0));\n",
    "DROP TABLE if exists Players;\n",
    "CREATE TABLE Players (id integer primary key , name varchar(0,0), age integer , team_id integer  , position_id integer ,start_date data, foreign key(position_id) references Positions(id), foreign key(team_id) references Teams(id));\n",
    "Drop table if exists Players_Archive;\n",
    "Create table Players_Archive (player_id integer , team_id integer ,start_date data, end_date data , foreign key (player_id) references Players(id),foreign key (team_id) references Teams(id)) ;\n",
    "\n",
    "\n"
   ]
  },
  {
   "cell_type": "markdown",
   "metadata": {},
   "source": [
    "# Задание 2\n",
    "Написать sql-скрипт, осуществляюший добавление всех возможных позиций игроков. (В данной задаче можно ограничится четырьмя - вратарь, защитник, полузащитник, нападающий)"
   ]
  },
  {
   "cell_type": "code",
   "execution_count": 354,
   "metadata": {
    "collapsed": false
   },
   "outputs": [
    {
     "name": "stdout",
     "output_type": "stream",
     "text": [
      "1 rows affected.\n",
      "1 rows affected.\n",
      "1 rows affected.\n",
      "1 rows affected.\n",
      "1 rows affected.\n",
      "1 rows affected.\n"
     ]
    },
    {
     "data": {
      "text/plain": [
       "[]"
      ]
     },
     "execution_count": 354,
     "metadata": {},
     "output_type": "execute_result"
    }
   ],
   "source": [
    "%%sql\n",
    "Insert into Positions(id,name)\n",
    "Values ('1','Attacker');\n",
    "Insert into Positions(id,name)\n",
    "Values ('2','Defender');\n",
    "Insert into Positions(id,name)\n",
    "Values ('3','Goalkeeper');\n",
    "Insert into Positions(id,name)\n",
    "Values('4','Half-Defender');\n",
    "Insert into Coaches(id,name)\n",
    "Values ('1','Gleb');\n",
    "Insert into Players(id,name,age,team_id,position_id,start_date)\n",
    "Values ('1','Ivan','17','1','3','19-11-2014')"
   ]
  },
  {
   "cell_type": "code",
   "execution_count": 355,
   "metadata": {
    "collapsed": false
   },
   "outputs": [
    {
     "name": "stdout",
     "output_type": "stream",
     "text": [
      "Done.\n"
     ]
    },
    {
     "data": {
      "text/html": [
       "<table>\n",
       "    <tr>\n",
       "        <th>id</th>\n",
       "        <th>name</th>\n",
       "    </tr>\n",
       "    <tr>\n",
       "        <td>1</td>\n",
       "        <td>Attacker</td>\n",
       "    </tr>\n",
       "    <tr>\n",
       "        <td>2</td>\n",
       "        <td>Defender</td>\n",
       "    </tr>\n",
       "    <tr>\n",
       "        <td>3</td>\n",
       "        <td>Goalkeeper</td>\n",
       "    </tr>\n",
       "    <tr>\n",
       "        <td>4</td>\n",
       "        <td>Half-Defender</td>\n",
       "    </tr>\n",
       "</table>"
      ],
      "text/plain": [
       "[(1, 'Attacker'), (2, 'Defender'), (3, 'Goalkeeper'), (4, 'Half-Defender')]"
      ]
     },
     "execution_count": 355,
     "metadata": {},
     "output_type": "execute_result"
    }
   ],
   "source": [
    "%sql select * from Positions\n"
   ]
  },
  {
   "cell_type": "markdown",
   "metadata": {},
   "source": [
    "# Задание 3\n",
    "Написать функцию, осуществляющую добавление тренера. На вход функции подается имя тренера. При невозможности вставки функция должна обработать данное исключение и вывести пользователю информацию о проблеме\n",
    "\n",
    "После написания функции необходимо добавить несколько тренеров для таблицы."
   ]
  },
  {
   "cell_type": "code",
   "execution_count": 356,
   "metadata": {
    "collapsed": false
   },
   "outputs": [],
   "source": [
    "import sqlite3\n",
    "db=sqlite3.connect('test1.db')\n",
    "def check_coach(name):\n",
    "    cur = db.cursor()\n",
    "    cur.execute('''select id from coaches where name = ?''',(name,))\n",
    "    try:\n",
    "        coach_id = cur.fetchone()[0]\n",
    "        return coach_id;\n",
    "    except TypeError:\n",
    "        print('Empty name')\n",
    "        return -1;\n",
    "def ins(coachname):\n",
    "    coach_id = check_coach(coachname)\n",
    "    if coach_id != -1:\n",
    "        return -1\n",
    "    cur = db.cursor()\n",
    "    cur.execute( '''\n",
    "    SELECT COALESCE(MAX(id)+1, 1) FROM Coaches''')\n",
    "    ID = cur.fetchone()[0]\n",
    "    cur.execute('''\n",
    "        INSERT INTO Coaches(id, Name) VALUES(?,?)''', (ID,coachname))\n",
    "    db.commit()    "
   ]
  },
  {
   "cell_type": "code",
   "execution_count": 357,
   "metadata": {
    "collapsed": false
   },
   "outputs": [
    {
     "name": "stdout",
     "output_type": "stream",
     "text": [
      "Empty name\n",
      "Empty name\n",
      "Empty name\n"
     ]
    }
   ],
   "source": [
    "ins('Druzhko')\n",
    " # Empty name показывает нам,что такого имени нет,после чего мы можем добавить его.\n",
    "ins('Matvey')\n",
    "ins('Fedor')"
   ]
  },
  {
   "cell_type": "code",
   "execution_count": 358,
   "metadata": {
    "collapsed": false
   },
   "outputs": [
    {
     "name": "stdout",
     "output_type": "stream",
     "text": [
      "Done.\n"
     ]
    },
    {
     "data": {
      "text/html": [
       "<table>\n",
       "    <tr>\n",
       "        <th>id</th>\n",
       "        <th>name</th>\n",
       "    </tr>\n",
       "    <tr>\n",
       "        <td>1</td>\n",
       "        <td>Gleb</td>\n",
       "    </tr>\n",
       "    <tr>\n",
       "        <td>2</td>\n",
       "        <td>Druzhko</td>\n",
       "    </tr>\n",
       "    <tr>\n",
       "        <td>3</td>\n",
       "        <td>Matvey</td>\n",
       "    </tr>\n",
       "    <tr>\n",
       "        <td>4</td>\n",
       "        <td>Fedor</td>\n",
       "    </tr>\n",
       "</table>"
      ],
      "text/plain": [
       "[(1, 'Gleb'), (2, 'Druzhko'), (3, 'Matvey'), (4, 'Fedor')]"
      ]
     },
     "execution_count": 358,
     "metadata": {},
     "output_type": "execute_result"
    }
   ],
   "source": [
    "%sql select * from Coaches"
   ]
  },
  {
   "cell_type": "markdown",
   "metadata": {},
   "source": [
    "# Задание 4\n",
    "\n",
    "Написать функцию, осуществляющую добавление команды. На вход функция принимает (имя команды, местоположение, имя тренера).\n",
    "На выходе должна быть добавлена команда.\n",
    "\n",
    "После написания функции необходимо добавить несколько команд"
   ]
  },
  {
   "cell_type": "code",
   "execution_count": 359,
   "metadata": {
    "collapsed": true
   },
   "outputs": [],
   "source": [
    "import sqlite3\n",
    "db=sqlite3.connect('test1.db')\n",
    "def check_coach(name):\n",
    "    cur = db.cursor()\n",
    "    cur.execute('''select id from coaches where name = ?''',(name,))\n",
    "    try:\n",
    "        coach_id = cur.fetchone()[0]\n",
    "        return coach_id\n",
    "    except TypeError:\n",
    "        print('wrong name')\n",
    "        return -1;\n",
    "def upd(teamname,location,coachname):\n",
    "    coach_id = check_coach(coachname)\n",
    "    if coach_id == -1:\n",
    "        return -1;\n",
    "    cur = db.cursor()\n",
    "    cur.execute( '''\n",
    "    SELECT COALESCE(MAX(id)+1, 1) FROM Teams''')\n",
    "    ID = cur.fetchone()[0]\n",
    "    cur.execute('''\n",
    "        INSERT INTO Teams(id, Name,location,coach_id) VALUES(?,?,?,?)''', (ID,teamname,location,coach_id))\n",
    "    db.commit()     "
   ]
  },
  {
   "cell_type": "code",
   "execution_count": 360,
   "metadata": {
    "collapsed": false
   },
   "outputs": [
    {
     "name": "stdout",
     "output_type": "stream",
     "text": [
      "Done.\n"
     ]
    },
    {
     "data": {
      "text/html": [
       "<table>\n",
       "    <tr>\n",
       "        <th>id</th>\n",
       "        <th>name</th>\n",
       "        <th>location</th>\n",
       "        <th>coach_id</th>\n",
       "    </tr>\n",
       "    <tr>\n",
       "        <td>1</td>\n",
       "        <td>Spartak</td>\n",
       "        <td>Moscow</td>\n",
       "        <td>1</td>\n",
       "    </tr>\n",
       "    <tr>\n",
       "        <td>2</td>\n",
       "        <td>Zenit</td>\n",
       "        <td>Moscow</td>\n",
       "        <td>3</td>\n",
       "    </tr>\n",
       "    <tr>\n",
       "        <td>3</td>\n",
       "        <td>Terek</td>\n",
       "        <td>Grozny</td>\n",
       "        <td>2</td>\n",
       "    </tr>\n",
       "    <tr>\n",
       "        <td>4</td>\n",
       "        <td>CSKA</td>\n",
       "        <td>Moscow</td>\n",
       "        <td>4</td>\n",
       "    </tr>\n",
       "</table>"
      ],
      "text/plain": [
       "[(1, 'Spartak', 'Moscow', 1),\n",
       " (2, 'Zenit', 'Moscow', 3),\n",
       " (3, 'Terek', 'Grozny', 2),\n",
       " (4, 'CSKA', 'Moscow', 4)]"
      ]
     },
     "execution_count": 360,
     "metadata": {},
     "output_type": "execute_result"
    }
   ],
   "source": [
    "upd('Spartak','Moscow','Gleb')\n",
    "upd('Zenit','Moscow','Matvey')\n",
    "upd('Terek','Grozny','Druzhko')\n",
    "upd('CSKA','Moscow','Fedor')\n",
    "%sql select * from Teams"
   ]
  },
  {
   "cell_type": "markdown",
   "metadata": {},
   "source": [
    "# Задание 5\n",
    "\n",
    "Написать функцию, осуществляющую обновление информации о команде. У функции на входе должен быть один обязательный параметр - название команды и два необязательных параметра - имя тренера и местоположение. При этом хотя бы один из необязательных параметров должен быть заполнен. Функция должна обновлять значение переданных необязательных параметров.\n",
    "\n",
    "После написания функции вызовите данную функцию несколько раз"
   ]
  },
  {
   "cell_type": "code",
   "execution_count": 361,
   "metadata": {
    "collapsed": true
   },
   "outputs": [],
   "source": [
    "def check_coach(name):\n",
    "    cur = db.cursor()\n",
    "    cur.execute('''select id from coaches where name = ?''',(name,))\n",
    "    try:\n",
    "        coach_id = cur.fetchone()[0]\n",
    "        return coach_id\n",
    "    except TypeError:\n",
    "        print('wrong name')\n",
    "        return -1;\n",
    "def update_teams(teamname,coachname):\n",
    "    coach_id = check_coach(coachname)\n",
    "    if coach_id == -1:\n",
    "        return -1;\n",
    "    cur = db.cursor()\n",
    "    cur.execute('''update teams set name = ? where coach_id = ?''',(teamname,coach_id,))\n",
    "    db.commit()"
   ]
  },
  {
   "cell_type": "code",
   "execution_count": 362,
   "metadata": {
    "collapsed": false
   },
   "outputs": [
    {
     "name": "stdout",
     "output_type": "stream",
     "text": [
      "Done.\n"
     ]
    },
    {
     "data": {
      "text/html": [
       "<table>\n",
       "    <tr>\n",
       "        <th>id</th>\n",
       "        <th>name</th>\n",
       "        <th>location</th>\n",
       "        <th>coach_id</th>\n",
       "    </tr>\n",
       "    <tr>\n",
       "        <td>1</td>\n",
       "        <td>PSJ</td>\n",
       "        <td>Moscow</td>\n",
       "        <td>1</td>\n",
       "    </tr>\n",
       "    <tr>\n",
       "        <td>2</td>\n",
       "        <td>Zenit</td>\n",
       "        <td>Moscow</td>\n",
       "        <td>3</td>\n",
       "    </tr>\n",
       "    <tr>\n",
       "        <td>3</td>\n",
       "        <td>Terek</td>\n",
       "        <td>Grozny</td>\n",
       "        <td>2</td>\n",
       "    </tr>\n",
       "    <tr>\n",
       "        <td>4</td>\n",
       "        <td>FCB</td>\n",
       "        <td>Moscow</td>\n",
       "        <td>4</td>\n",
       "    </tr>\n",
       "</table>"
      ],
      "text/plain": [
       "[(1, 'PSJ', 'Moscow', 1),\n",
       " (2, 'Zenit', 'Moscow', 3),\n",
       " (3, 'Terek', 'Grozny', 2),\n",
       " (4, 'FCB', 'Moscow', 4)]"
      ]
     },
     "execution_count": 362,
     "metadata": {},
     "output_type": "execute_result"
    }
   ],
   "source": [
    "update_teams('PSJ','Gleb')\n",
    "update_teams('FCB','Fedor')\n",
    "%sql select * from Teams"
   ]
  },
  {
   "cell_type": "markdown",
   "metadata": {},
   "source": [
    "# Задание 6\n",
    "\n",
    "Написать функцию, осуществляющую добавление нового футболиста в таблицу игроков. На входе (имя, возраст, название позиции, название команды, дата перехода в команду(необязательный параметр)). Если дата перехода не указана, то нужно использовать текущую дату. Предусмотреть различные ошибки (такие как неверное имя позиции, неверное название команды, возраст < 10 и > 50 и т.п.)\n",
    "\n",
    "После написания функции необходимо добавить несколько игроков."
   ]
  },
  {
   "cell_type": "code",
   "execution_count": 363,
   "metadata": {
    "collapsed": false
   },
   "outputs": [],
   "source": [
    "def check_position(position):\n",
    "    cur = db.cursor()\n",
    "    cur.execute('''select id from Positions where Name = ?''',(position,))\n",
    "    try:\n",
    "        pos_id = cur.fetchone()[0]\n",
    "        print('find pos')\n",
    "        return pos_id;\n",
    "    except TypeError:\n",
    "        print('wrong position')\n",
    "        return -1;\n",
    "def check_team(name):\n",
    "    cur = db.cursor()\n",
    "    cur.execute('''select id from Teams where Name = ?''',(name,))\n",
    "    try:\n",
    "        t_id = cur.fetchone()[0]\n",
    "        return t_id;\n",
    "    except TypeError:\n",
    "        print('wrong teamname')\n",
    "        return -1;\n",
    "def check_age():\n",
    "    cur = db.cursor()\n",
    "    cur.execute('''select id from Players where age between 10 and 50''')\n",
    "    try:\n",
    "        a_id = cur.fetchone()[0]\n",
    "        print('find age')\n",
    "        return a_id\n",
    "    except TypeError:\n",
    "        print('wrong age')\n",
    "        return -1; \n",
    "def check_player(name1):\n",
    "    cur = db.cursor()\n",
    "    cur.execute('''select id from Players where Name = ?''',(name1,))\n",
    "    try:\n",
    "        pl_id = cur.fetchone()[0]\n",
    "        print('find name')\n",
    "        return pl_id;\n",
    "    except TypeError:\n",
    "        print('Empty name')\n",
    "        return -1;\n",
    "def ins_player(name,age,position,teamname,startdate):\n",
    "    pos_id = check_position(position)\n",
    "    t_id = check_team(teamname)\n",
    "    pl_id = check_player(name)\n",
    "    a_id = check_age()\n",
    "    if ((pos_id == -1) or (t_id == -1) or (a_id == -1) or (pl_id != -1)):\n",
    "        print('error')\n",
    "        return -1;\n",
    "    cur = db.cursor()\n",
    "    cur.execute( '''\n",
    "    SELECT COALESCE(MAX(id)+1, 1) FROM Players''')\n",
    "    ID = cur.fetchone()[0]\n",
    "    cur.execute('''\n",
    "        INSERT INTO Players(id,name,age,team_id,position_id,start_date) VALUES(?,?,?,?,?,?)''', (ID,name,age,pos_id,t_id,startdate))\n",
    "    db.commit()"
   ]
  },
  {
   "cell_type": "code",
   "execution_count": 364,
   "metadata": {
    "collapsed": false
   },
   "outputs": [
    {
     "name": "stdout",
     "output_type": "stream",
     "text": [
      "find pos\n",
      "Empty name\n",
      "find age\n",
      "Done.\n"
     ]
    },
    {
     "data": {
      "text/html": [
       "<table>\n",
       "    <tr>\n",
       "        <th>id</th>\n",
       "        <th>name</th>\n",
       "        <th>age</th>\n",
       "        <th>team_id</th>\n",
       "        <th>position_id</th>\n",
       "        <th>start_date</th>\n",
       "    </tr>\n",
       "    <tr>\n",
       "        <td>1</td>\n",
       "        <td>Ivan</td>\n",
       "        <td>17</td>\n",
       "        <td>1</td>\n",
       "        <td>3</td>\n",
       "        <td>19-11-2014</td>\n",
       "    </tr>\n",
       "    <tr>\n",
       "        <td>2</td>\n",
       "        <td>Zhora</td>\n",
       "        <td>20</td>\n",
       "        <td>1</td>\n",
       "        <td>1</td>\n",
       "        <td>18-03-1999</td>\n",
       "    </tr>\n",
       "</table>"
      ],
      "text/plain": [
       "[(1, 'Ivan', 17, 1, 3, '19-11-2014'), (2, 'Zhora', 20, 1, 1, '18-03-1999')]"
      ]
     },
     "execution_count": 364,
     "metadata": {},
     "output_type": "execute_result"
    }
   ],
   "source": [
    "ins_player('Zhora','20','Attacker','PSJ','18-03-1999')\n",
    "%sql select * from Players\n"
   ]
  },
  {
   "cell_type": "markdown",
   "metadata": {},
   "source": [
    "# Задание 7\n",
    "Написать функцию для перевода игрока в другую команду. Данная функция должна осуществить архивирование текущей записи в таблице игроков в таблицу players_archive с заполнение end_date - датой начала игры за новую команду - 1 день. А также осуществлять изменение поля в таблице Players. При возникновении ошибки должен осуществляться полный откат транзакции."
   ]
  },
  {
   "cell_type": "code",
   "execution_count": 365,
   "metadata": {
    "collapsed": false
   },
   "outputs": [],
   "source": [
    "def check_player(name1):\n",
    "    cur = db.cursor()\n",
    "    cur.execute('''select id from Players where Name = ?''',(name1,))\n",
    "    try:\n",
    "        pl_id = cur.fetchone()[0]\n",
    "        print('find name')\n",
    "        return pl_id;\n",
    "    except TypeError:\n",
    "        print('Empty name')\n",
    "        return -1;\n",
    "def check_team(name):\n",
    "    cur = db.cursor()\n",
    "    cur.execute('''select id from Teams where Name = ?''',(name,))\n",
    "    try:\n",
    "        t_id = cur.fetchone()[0]\n",
    "        return t_id;\n",
    "    except TypeError:\n",
    "        print('wrong teamname')\n",
    "        return -1;    \n",
    "def pop_date(name):\n",
    "    cur = db.cursor()\n",
    "    cur.execute('''select start_date from Players where name = ? ''',(name,))\n",
    "    date_id = cur.fetchone()[0]\n",
    "    print(date_id)\n",
    "    return date_id;    \n",
    "def transfer_player(name,teamname,enddate):\n",
    "    pl_id = check_player(name)\n",
    "    t_id = check_team(teamname)\n",
    "    date_id = pop_date(name)\n",
    "    if ((pl_id == -1) or (t_id == -1)):\n",
    "        return -1;\n",
    "    cur = db.cursor()\n",
    "    cur.execute('''select coalesce(max(player_id) + 1, 1) from Players_Archive''')\n",
    "    plr_id = cur.fetchone()[0]\n",
    "    cur.execute('''insert into Players_Archive(player_id, team_id, start_date, end_date)\n",
    "                    VALUES(?,?,?,?)''', (pl_id, t_id,date_id,enddate))\n",
    "    cur.execute('''update players set team_id = ? where id = ?''',(t_id,pl_id,))\n",
    "    db.commit()"
   ]
  },
  {
   "cell_type": "code",
   "execution_count": 366,
   "metadata": {
    "collapsed": false
   },
   "outputs": [
    {
     "name": "stdout",
     "output_type": "stream",
     "text": [
      "find name\n",
      "18-03-1999\n"
     ]
    }
   ],
   "source": [
    "transfer_player('Zhora','Zenit','19-04-2021')\n"
   ]
  },
  {
   "cell_type": "code",
   "execution_count": 367,
   "metadata": {
    "collapsed": false
   },
   "outputs": [
    {
     "name": "stdout",
     "output_type": "stream",
     "text": [
      "Done.\n"
     ]
    },
    {
     "data": {
      "text/html": [
       "<table>\n",
       "    <tr>\n",
       "        <th>player_id</th>\n",
       "        <th>team_id</th>\n",
       "        <th>start_date</th>\n",
       "        <th>end_date</th>\n",
       "    </tr>\n",
       "    <tr>\n",
       "        <td>2</td>\n",
       "        <td>2</td>\n",
       "        <td>18-03-1999</td>\n",
       "        <td>19-04-2021</td>\n",
       "    </tr>\n",
       "</table>"
      ],
      "text/plain": [
       "[(2, 2, '18-03-1999', '19-04-2021')]"
      ]
     },
     "execution_count": 367,
     "metadata": {},
     "output_type": "execute_result"
    }
   ],
   "source": [
    "%sql select * from Players_Archive"
   ]
  },
  {
   "cell_type": "code",
   "execution_count": 368,
   "metadata": {
    "collapsed": false
   },
   "outputs": [
    {
     "name": "stdout",
     "output_type": "stream",
     "text": [
      "Done.\n"
     ]
    },
    {
     "data": {
      "text/html": [
       "<table>\n",
       "    <tr>\n",
       "        <th>id</th>\n",
       "        <th>name</th>\n",
       "        <th>age</th>\n",
       "        <th>team_id</th>\n",
       "        <th>position_id</th>\n",
       "        <th>start_date</th>\n",
       "    </tr>\n",
       "    <tr>\n",
       "        <td>1</td>\n",
       "        <td>Ivan</td>\n",
       "        <td>17</td>\n",
       "        <td>1</td>\n",
       "        <td>3</td>\n",
       "        <td>19-11-2014</td>\n",
       "    </tr>\n",
       "    <tr>\n",
       "        <td>2</td>\n",
       "        <td>Zhora</td>\n",
       "        <td>20</td>\n",
       "        <td>2</td>\n",
       "        <td>1</td>\n",
       "        <td>18-03-1999</td>\n",
       "    </tr>\n",
       "</table>"
      ],
      "text/plain": [
       "[(1, 'Ivan', 17, 1, 3, '19-11-2014'), (2, 'Zhora', 20, 2, 1, '18-03-1999')]"
      ]
     },
     "execution_count": 368,
     "metadata": {},
     "output_type": "execute_result"
    }
   ],
   "source": [
    "%sql select * from Players"
   ]
  },
  {
   "cell_type": "code",
   "execution_count": null,
   "metadata": {
    "collapsed": true
   },
   "outputs": [],
   "source": [
    "#368 раз..."
   ]
  }
 ],
 "metadata": {
  "kernelspec": {
   "display_name": "Python 3",
   "language": "python",
   "name": "python3"
  },
  "language_info": {
   "codemirror_mode": {
    "name": "ipython",
    "version": 3
   },
   "file_extension": ".py",
   "mimetype": "text/x-python",
   "name": "python",
   "nbconvert_exporter": "python",
   "pygments_lexer": "ipython3",
   "version": "3.6.0"
  }
 },
 "nbformat": 4,
 "nbformat_minor": 2
}
